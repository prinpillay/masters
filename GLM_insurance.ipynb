{
 "cells": [
  {
   "cell_type": "markdown",
   "metadata": {},
   "source": [
    "# GLM Model with logistic regression\n",
    "\n",
    "The following code builds a multinomial logistic regression model to compare the results of Deep Learning and Collaborative Filtering with a simpler model."
   ]
  },
  {
   "cell_type": "code",
   "execution_count": null,
   "metadata": {},
   "outputs": [],
   "source": [
    "# Load the packages required for model building\n",
    "library(bigrquery)\n",
    "library(tidyverse)\n",
    "library(caret)\n",
    "library(nnet)\n",
    "require(foreign)\n",
    "require(nnet)\n",
    "require(ggplot2)\n",
    "require(reshape2)"
   ]
  },
  {
   "cell_type": "code",
   "execution_count": null,
   "metadata": {},
   "outputs": [],
   "source": [
    "# Store the project id\n",
    "projectid = \"astute-veld-253418\"\n",
    "\n",
    "# Set your query from the database\n",
    "sql <- \"SELECT * FROM `astute-veld-253418.Masters.Masters`\"\n",
    "\n",
    "# Run the query and store the data in a dataframe\n",
    "df_insurance <- query_exec(sql, projectid, use_legacy_sql = FALSE, max_pages = Inf)\n",
    "\n",
    "# Print the query result to check outputs\n",
    "head(df_insurance)\n",
    "dim(df_insurance)"
   ]
  },
  {
   "cell_type": "code",
   "execution_count": null,
   "metadata": {},
   "outputs": [],
   "source": [
    "#Generate training and test datasets - 80/20 Split\n",
    "train <- df_insurance[1:182036,]\n",
    "test <- df_insurance[182036:227540,]"
   ]
  },
  {
   "cell_type": "code",
   "execution_count": null,
   "metadata": {},
   "outputs": [],
   "source": [
    "#Model building\n",
    "test_model <- multinom(TypeName ~ Occupation_Grouping + Premium + Gender + Habit + Age + policy_time, data = train)\n",
    "summary(test_model)"
   ]
  },
  {
   "cell_type": "code",
   "execution_count": null,
   "metadata": {},
   "outputs": [],
   "source": [
    "#Get Classification accuracy for the test dataset\n",
    "predicted.classes <- test_model %>% predict(test)\n",
    "head(predicted.classes)\n",
    "mean(predicted.classes == test$TypeName)"
   ]
  }
 ],
 "metadata": {
  "environment": {
   "name": "r-cpu.3-6.m50",
   "type": "gcloud",
   "uri": "gcr.io/deeplearning-platform-release/r-cpu.3-6:m50"
  },
  "kernelspec": {
   "display_name": "R",
   "language": "R",
   "name": "ir"
  },
  "language_info": {
   "codemirror_mode": "r",
   "file_extension": ".r",
   "mimetype": "text/x-r-source",
   "name": "R",
   "pygments_lexer": "r",
   "version": "3.6.3"
  }
 },
 "nbformat": 4,
 "nbformat_minor": 4
}
