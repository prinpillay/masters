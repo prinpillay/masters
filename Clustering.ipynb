{
 "cells": [
  {
   "cell_type": "markdown",
   "metadata": {},
   "source": [
    "# Clustering Analysis\n",
    "\n",
    "The following code performs a cluster analysis. This unsupervised modelling is used to detect whether certain distinct clusters exist in the data, based on the various input fields"
   ]
  },
  {
   "cell_type": "code",
   "execution_count": null,
   "metadata": {},
   "outputs": [],
   "source": [
    "# Load packages\n",
    "library(bigrquery)\n",
    "library(cluster)\n",
    "library(dplyr)\n",
    "library(ggplot2)\n",
    "library(readr)\n",
    "library(Rtsne)"
   ]
  },
  {
   "cell_type": "code",
   "execution_count": null,
   "metadata": {},
   "outputs": [],
   "source": [
    "# Load project information to pull data from database\n",
    "projectid = \"astute-veld-253418\"\n",
    "\n",
    "# Set your query\n",
    "sql <- \"SELECT * FROM `astute-veld-253418.Masters.Masters`\"\n",
    "\n",
    "# Run the query and store the data in a dataframe\n",
    "df_insurance <- query_exec(sql, projectid, use_legacy_sql = FALSE, max_pages = Inf)\n",
    "\n",
    "# Print the query result\n",
    "head(df_insurance)"
   ]
  },
  {
   "cell_type": "code",
   "execution_count": null,
   "metadata": {},
   "outputs": [],
   "source": [
    "#We first attempt this with a sample of 10k rows\n",
    "df_insurance2=df_insurance[1:10000,-1]\n",
    "head(df_insurance2)\n",
    "dim(df_insurance2)"
   ]
  },
  {
   "cell_type": "code",
   "execution_count": null,
   "metadata": {},
   "outputs": [],
   "source": [
    "#We need to transform the features before Gower distance can be calculated\n",
    "df_insurance2$Gender <- as.factor(df_insurance2$Gender)\n",
    "df_insurance2$Occupation_Grouping <- as.factor(df_insurance2$Occupation_Grouping)\n",
    "df_insurance2$Habit <- as.factor(df_insurance2$Habit)\n",
    "df_insurance2$TypeName <- as.factor(df_insurance2$TypeName)"
   ]
  },
  {
   "cell_type": "code",
   "execution_count": null,
   "metadata": {},
   "outputs": [],
   "source": [
    "#Compute the Gower distance\n",
    "gower_dist <- daisy(df_insurance2, metric = \"gower\")\n",
    "gower_mat <- as.matrix(gower_dist)"
   ]
  },
  {
   "cell_type": "code",
   "execution_count": null,
   "metadata": {},
   "outputs": [],
   "source": [
    "#Calculate the Silhouette width to find ideal number of clusters\n",
    "sil_width <- c(NA)\n",
    "for(i in 2:8){  \n",
    "  pam_fit <- pam(gower_dist, diss = TRUE, k = i)  \n",
    "  sil_width[i] <- pam_fit$silinfo$avg.width  \n",
    "}\n",
    "plot(1:8, sil_width,\n",
    "     xlab = \"Number of clusters\",\n",
    "     ylab = \"Silhouette Width\")\n",
    "lines(1:8, sil_width)\n"
   ]
  },
  {
   "cell_type": "code",
   "execution_count": null,
   "metadata": {},
   "outputs": [],
   "source": [
    "#Assign number of clusters, perform a PAM clustering algolrithm, and print a summary\n",
    "k <- 3\n",
    "pam_fit <- pam(gower_dist, diss = TRUE, k)\n",
    "pam_results <- df %>%\n",
    "  mutate(cluster = pam_fit$clustering) %>%\n",
    "  group_by(cluster) %>%\n",
    "  do(the_summary = summary(.))\n",
    "pam_results$the_summary"
   ]
  },
  {
   "cell_type": "code",
   "execution_count": null,
   "metadata": {},
   "outputs": [],
   "source": [
    "#Now we plot and visualise this data in lower dimensional space\n",
    "tsne_obj <- Rtsne(gower_dist, is_distance = TRUE)\n",
    "tsne_data <- tsne_obj$Y %>%\n",
    "  data.frame() %>%\n",
    "  setNames(c(\"X\", \"Y\")) %>%\n",
    "  mutate(cluster = factor(pam_fit$clustering))\n",
    "ggplot(aes(x = X, y = Y), data = tsne_data) +\n",
    "  geom_point(aes(color = cluster))"
   ]
  }
 ],
 "metadata": {
  "environment": {
   "name": "r-cpu.3-6.m50",
   "type": "gcloud",
   "uri": "gcr.io/deeplearning-platform-release/r-cpu.3-6:m50"
  },
  "kernelspec": {
   "display_name": "R",
   "language": "R",
   "name": "ir"
  },
  "language_info": {
   "codemirror_mode": "r",
   "file_extension": ".r",
   "mimetype": "text/x-r-source",
   "name": "R",
   "pygments_lexer": "r",
   "version": "3.6.3"
  }
 },
 "nbformat": 4,
 "nbformat_minor": 4
}
