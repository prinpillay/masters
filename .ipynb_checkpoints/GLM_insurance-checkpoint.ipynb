{
 "cells": [
  {
   "cell_type": "code",
   "execution_count": 7,
   "metadata": {},
   "outputs": [],
   "source": [
    "# Load the package\n",
    "library(bigrquery)\n",
    "library(tidyverse)\n",
    "library(caret)\n",
    "library(nnet)\n",
    "require(foreign)\n",
    "require(nnet)\n",
    "require(ggplot2)\n",
    "require(reshape2)"
   ]
  },
  {
   "cell_type": "code",
   "execution_count": 17,
   "metadata": {},
   "outputs": [
    {
     "name": "stderr",
     "output_type": "stream",
     "text": [
      "Warning message:\n",
      "“'query_exec' is deprecated.\n",
      "Use 'bq_perform_query' instead.\n",
      "See help(\"Deprecated\") and help(\"bigrquery-deprecated\").”\n",
      "Warning message:\n",
      "“'run_query_job' is deprecated.\n",
      "Use 'bq_perform_query' instead.\n",
      "See help(\"Deprecated\") and help(\"bigrquery-deprecated\").”\n",
      "Warning message:\n",
      "“'insert_query_job' is deprecated.\n",
      "Use 'bq_perform_query' instead.\n",
      "See help(\"Deprecated\") and help(\"bigrquery-deprecated\").”\n",
      "Warning message:\n",
      "“'wait_for' is deprecated.\n",
      "Use 'bq_job_wait' instead.\n",
      "See help(\"Deprecated\") and help(\"bigrquery-deprecated\").”\n",
      "Warning message:\n",
      "“'get_job' is deprecated.\n",
      "Use 'bq_job_meta' instead.\n",
      "See help(\"Deprecated\") and help(\"bigrquery-deprecated\").”\n",
      "0 bytes processed\n",
      "\n",
      "Warning message:\n",
      "“'list_tabledata' is deprecated.\n",
      "Use 'bq_table_download' instead.\n",
      "See help(\"Deprecated\") and help(\"bigrquery-deprecated\").”\n",
      "Warning message:\n",
      "“'get_table' is deprecated.\n",
      "Use 'bq_table_meta' instead.\n",
      "See help(\"Deprecated\") and help(\"bigrquery-deprecated\").”\n"
     ]
    },
    {
     "data": {
      "text/html": [
       "<table>\n",
       "<caption>A data.frame: 6 × 8</caption>\n",
       "<thead>\n",
       "\t<tr><th></th><th scope=col>Mem_ID</th><th scope=col>Occupation_Grouping</th><th scope=col>Premium</th><th scope=col>Gender</th><th scope=col>Habit</th><th scope=col>Age</th><th scope=col>policy_time</th><th scope=col>TypeName</th></tr>\n",
       "\t<tr><th></th><th scope=col>&lt;int&gt;</th><th scope=col>&lt;chr&gt;</th><th scope=col>&lt;dbl&gt;</th><th scope=col>&lt;chr&gt;</th><th scope=col>&lt;chr&gt;</th><th scope=col>&lt;int&gt;</th><th scope=col>&lt;int&gt;</th><th scope=col>&lt;chr&gt;</th></tr>\n",
       "</thead>\n",
       "<tbody>\n",
       "\t<tr><th scope=row>1</th><td>616553230</td><td>Legal</td><td> 468.20</td><td>Male</td><td>Non-Smoker</td><td>58</td><td>38</td><td>SPPI Supp A       </td></tr>\n",
       "\t<tr><th scope=row>2</th><td>616553230</td><td>Legal</td><td>   0.00</td><td>Male</td><td>Non-Smoker</td><td>58</td><td>38</td><td>RA Policy         </td></tr>\n",
       "\t<tr><th scope=row>3</th><td>616553230</td><td>Legal</td><td> 554.31</td><td>Male</td><td>Non-Smoker</td><td>58</td><td>38</td><td>DISA              </td></tr>\n",
       "\t<tr><th scope=row>4</th><td>616553230</td><td>Legal</td><td>2486.69</td><td>Male</td><td>Non-Smoker</td><td>58</td><td>38</td><td>LA                </td></tr>\n",
       "\t<tr><th scope=row>5</th><td>616510628</td><td>Legal</td><td>1845.45</td><td>Male</td><td>Non-Smoker</td><td>60</td><td>38</td><td>SPPI Ordinary OSRB</td></tr>\n",
       "\t<tr><th scope=row>6</th><td>616510628</td><td>Legal</td><td> 375.46</td><td>Male</td><td>Non-Smoker</td><td>60</td><td>38</td><td>SPPI Deferred OSRB</td></tr>\n",
       "</tbody>\n",
       "</table>\n"
      ],
      "text/latex": [
       "A data.frame: 6 × 8\n",
       "\\begin{tabular}{r|llllllll}\n",
       "  & Mem\\_ID & Occupation\\_Grouping & Premium & Gender & Habit & Age & policy\\_time & TypeName\\\\\n",
       "  & <int> & <chr> & <dbl> & <chr> & <chr> & <int> & <int> & <chr>\\\\\n",
       "\\hline\n",
       "\t1 & 616553230 & Legal &  468.20 & Male & Non-Smoker & 58 & 38 & SPPI Supp A       \\\\\n",
       "\t2 & 616553230 & Legal &    0.00 & Male & Non-Smoker & 58 & 38 & RA Policy         \\\\\n",
       "\t3 & 616553230 & Legal &  554.31 & Male & Non-Smoker & 58 & 38 & DISA              \\\\\n",
       "\t4 & 616553230 & Legal & 2486.69 & Male & Non-Smoker & 58 & 38 & LA                \\\\\n",
       "\t5 & 616510628 & Legal & 1845.45 & Male & Non-Smoker & 60 & 38 & SPPI Ordinary OSRB\\\\\n",
       "\t6 & 616510628 & Legal &  375.46 & Male & Non-Smoker & 60 & 38 & SPPI Deferred OSRB\\\\\n",
       "\\end{tabular}\n"
      ],
      "text/markdown": [
       "\n",
       "A data.frame: 6 × 8\n",
       "\n",
       "| <!--/--> | Mem_ID &lt;int&gt; | Occupation_Grouping &lt;chr&gt; | Premium &lt;dbl&gt; | Gender &lt;chr&gt; | Habit &lt;chr&gt; | Age &lt;int&gt; | policy_time &lt;int&gt; | TypeName &lt;chr&gt; |\n",
       "|---|---|---|---|---|---|---|---|---|\n",
       "| 1 | 616553230 | Legal |  468.20 | Male | Non-Smoker | 58 | 38 | SPPI Supp A        |\n",
       "| 2 | 616553230 | Legal |    0.00 | Male | Non-Smoker | 58 | 38 | RA Policy          |\n",
       "| 3 | 616553230 | Legal |  554.31 | Male | Non-Smoker | 58 | 38 | DISA               |\n",
       "| 4 | 616553230 | Legal | 2486.69 | Male | Non-Smoker | 58 | 38 | LA                 |\n",
       "| 5 | 616510628 | Legal | 1845.45 | Male | Non-Smoker | 60 | 38 | SPPI Ordinary OSRB |\n",
       "| 6 | 616510628 | Legal |  375.46 | Male | Non-Smoker | 60 | 38 | SPPI Deferred OSRB |\n",
       "\n"
      ],
      "text/plain": [
       "  Mem_ID    Occupation_Grouping Premium Gender Habit      Age policy_time\n",
       "1 616553230 Legal                468.20 Male   Non-Smoker 58  38         \n",
       "2 616553230 Legal                  0.00 Male   Non-Smoker 58  38         \n",
       "3 616553230 Legal                554.31 Male   Non-Smoker 58  38         \n",
       "4 616553230 Legal               2486.69 Male   Non-Smoker 58  38         \n",
       "5 616510628 Legal               1845.45 Male   Non-Smoker 60  38         \n",
       "6 616510628 Legal                375.46 Male   Non-Smoker 60  38         \n",
       "  TypeName          \n",
       "1 SPPI Supp A       \n",
       "2 RA Policy         \n",
       "3 DISA              \n",
       "4 LA                \n",
       "5 SPPI Ordinary OSRB\n",
       "6 SPPI Deferred OSRB"
      ]
     },
     "metadata": {},
     "output_type": "display_data"
    }
   ],
   "source": [
    "# Store the project id\n",
    "projectid = \"astute-veld-253418\"\n",
    "\n",
    "# Set your query\n",
    "sql <- \"SELECT * FROM `astute-veld-253418.Masters.Masters`\"\n",
    "\n",
    "# Run the query and store the data in a dataframe\n",
    "df_insurance <- query_exec(sql, projectid, use_legacy_sql = FALSE, max_pages = Inf)\n",
    "\n",
    "# Print the query result\n",
    "head(df_insurance)"
   ]
  },
  {
   "cell_type": "code",
   "execution_count": 18,
   "metadata": {},
   "outputs": [
    {
     "data": {
      "text/html": [
       "<style>\n",
       ".list-inline {list-style: none; margin:0; padding: 0}\n",
       ".list-inline>li {display: inline-block}\n",
       ".list-inline>li:not(:last-child)::after {content: \"\\00b7\"; padding: 0 .5ex}\n",
       "</style>\n",
       "<ol class=list-inline><li>227546</li><li>8</li></ol>\n"
      ],
      "text/latex": [
       "\\begin{enumerate*}\n",
       "\\item 227546\n",
       "\\item 8\n",
       "\\end{enumerate*}\n"
      ],
      "text/markdown": [
       "1. 227546\n",
       "2. 8\n",
       "\n",
       "\n"
      ],
      "text/plain": [
       "[1] 227546      8"
      ]
     },
     "metadata": {},
     "output_type": "display_data"
    }
   ],
   "source": [
    "dim(df_insurance)"
   ]
  },
  {
   "cell_type": "code",
   "execution_count": 22,
   "metadata": {},
   "outputs": [],
   "source": [
    "train <- df_insurance[1:182036,]\n",
    "test <- df_insurance[182036:227540,]"
   ]
  },
  {
   "cell_type": "code",
   "execution_count": 28,
   "metadata": {},
   "outputs": [
    {
     "name": "stdout",
     "output_type": "stream",
     "text": [
      "# weights:  286 (252 variable)\n",
      "initial  value 562681.004040 \n",
      "iter  10 value 537651.855686\n",
      "iter  20 value 525813.878645\n",
      "iter  30 value 512093.041591\n",
      "iter  40 value 509960.681635\n",
      "iter  50 value 505258.821121\n",
      "iter  60 value 499057.375410\n",
      "iter  70 value 498301.885736\n",
      "iter  80 value 494697.288943\n",
      "iter  90 value 485336.772761\n",
      "iter 100 value 481509.940536\n",
      "final  value 481509.940536 \n",
      "stopped after 100 iterations\n"
     ]
    }
   ],
   "source": [
    "test_model <- multinom(TypeName ~ Occupation_Grouping + Premium + Gender + Habit + Age + policy_time, data = train)"
   ]
  },
  {
   "cell_type": "code",
   "execution_count": 29,
   "metadata": {},
   "outputs": [],
   "source": [
    "summary(test_model)"
   ]
  },
  {
   "cell_type": "code",
   "execution_count": 34,
   "metadata": {},
   "outputs": [],
   "source": [
    "predicted.classes <- test_model %>% predict(test)"
   ]
  },
  {
   "cell_type": "code",
   "execution_count": 35,
   "metadata": {},
   "outputs": [
    {
     "data": {
      "text/html": [
       "<style>\n",
       ".list-inline {list-style: none; margin:0; padding: 0}\n",
       ".list-inline>li {display: inline-block}\n",
       ".list-inline>li:not(:last-child)::after {content: \"\\00b7\"; padding: 0 .5ex}\n",
       "</style>\n",
       "<ol class=list-inline><li>SPPI Ordinary OSRB</li><li>DISA WL OSRB</li><li>SPPI Deferred OSRB</li><li>SPPI Deferred OSRB</li><li>SPPI Deferred OSRB</li><li>SPPI Deferred OSRB</li></ol>\n",
       "\n",
       "<details>\n",
       "\t<summary style=display:list-item;cursor:pointer>\n",
       "\t\t<strong>Levels</strong>:\n",
       "\t</summary>\n",
       "\t<style>\n",
       "\t.list-inline {list-style: none; margin:0; padding: 0}\n",
       "\t.list-inline>li {display: inline-block}\n",
       "\t.list-inline>li:not(:last-child)::after {content: \"\\00b7\"; padding: 0 .5ex}\n",
       "\t</style>\n",
       "\t<ol class=list-inline><li>'Admission Rider Benefit'</li><li>'CATCHALL WL'</li><li>'CI 100 Cover WL'</li><li>'CORE 100% WL'</li><li>'DISA'</li><li>'DISA WL'</li><li>'DISA WL OSRB'</li><li>'LA'</li><li>'PDP Disability'</li><li>'PDP Disability OSRB'</li><li>'Permanent Incapacity Benefit'</li><li>'PHP WL'</li><li>'PLP WL'</li><li>'RA Policy'</li><li>'Sickness Benefit'</li><li>'SPPI Deferred'</li><li>'SPPI Deferred OSRB'</li><li>'SPPI Ordinary'</li><li>'SPPI Ordinary Admission Rider'</li><li>'SPPI Ordinary OSRB'</li><li>'SPPI Supp A'</li><li>'SPPI Supp A Admission Rider'</li></ol>\n",
       "</details>"
      ],
      "text/latex": [
       "\\begin{enumerate*}\n",
       "\\item SPPI Ordinary OSRB\n",
       "\\item DISA WL OSRB\n",
       "\\item SPPI Deferred OSRB\n",
       "\\item SPPI Deferred OSRB\n",
       "\\item SPPI Deferred OSRB\n",
       "\\item SPPI Deferred OSRB\n",
       "\\end{enumerate*}\n",
       "\n",
       "\\emph{Levels}: \\begin{enumerate*}\n",
       "\\item 'Admission Rider Benefit'\n",
       "\\item 'CATCHALL WL'\n",
       "\\item 'CI 100 Cover WL'\n",
       "\\item 'CORE 100\\% WL'\n",
       "\\item 'DISA'\n",
       "\\item 'DISA WL'\n",
       "\\item 'DISA WL OSRB'\n",
       "\\item 'LA'\n",
       "\\item 'PDP Disability'\n",
       "\\item 'PDP Disability OSRB'\n",
       "\\item 'Permanent Incapacity Benefit'\n",
       "\\item 'PHP WL'\n",
       "\\item 'PLP WL'\n",
       "\\item 'RA Policy'\n",
       "\\item 'Sickness Benefit'\n",
       "\\item 'SPPI Deferred'\n",
       "\\item 'SPPI Deferred OSRB'\n",
       "\\item 'SPPI Ordinary'\n",
       "\\item 'SPPI Ordinary Admission Rider'\n",
       "\\item 'SPPI Ordinary OSRB'\n",
       "\\item 'SPPI Supp A'\n",
       "\\item 'SPPI Supp A Admission Rider'\n",
       "\\end{enumerate*}\n"
      ],
      "text/markdown": [
       "1. SPPI Ordinary OSRB\n",
       "2. DISA WL OSRB\n",
       "3. SPPI Deferred OSRB\n",
       "4. SPPI Deferred OSRB\n",
       "5. SPPI Deferred OSRB\n",
       "6. SPPI Deferred OSRB\n",
       "\n",
       "\n",
       "\n",
       "**Levels**: 1. 'Admission Rider Benefit'\n",
       "2. 'CATCHALL WL'\n",
       "3. 'CI 100 Cover WL'\n",
       "4. 'CORE 100% WL'\n",
       "5. 'DISA'\n",
       "6. 'DISA WL'\n",
       "7. 'DISA WL OSRB'\n",
       "8. 'LA'\n",
       "9. 'PDP Disability'\n",
       "10. 'PDP Disability OSRB'\n",
       "11. 'Permanent Incapacity Benefit'\n",
       "12. 'PHP WL'\n",
       "13. 'PLP WL'\n",
       "14. 'RA Policy'\n",
       "15. 'Sickness Benefit'\n",
       "16. 'SPPI Deferred'\n",
       "17. 'SPPI Deferred OSRB'\n",
       "18. 'SPPI Ordinary'\n",
       "19. 'SPPI Ordinary Admission Rider'\n",
       "20. 'SPPI Ordinary OSRB'\n",
       "21. 'SPPI Supp A'\n",
       "22. 'SPPI Supp A Admission Rider'\n",
       "\n",
       "\n"
      ],
      "text/plain": [
       "[1] SPPI Ordinary OSRB DISA WL OSRB       SPPI Deferred OSRB SPPI Deferred OSRB\n",
       "[5] SPPI Deferred OSRB SPPI Deferred OSRB\n",
       "22 Levels: Admission Rider Benefit CATCHALL WL CI 100 Cover WL ... SPPI Supp A Admission Rider"
      ]
     },
     "metadata": {},
     "output_type": "display_data"
    }
   ],
   "source": [
    "head(predicted.classes)"
   ]
  },
  {
   "cell_type": "code",
   "execution_count": 37,
   "metadata": {},
   "outputs": [
    {
     "data": {
      "text/html": [
       "0.119964839028678"
      ],
      "text/latex": [
       "0.119964839028678"
      ],
      "text/markdown": [
       "0.119964839028678"
      ],
      "text/plain": [
       "[1] 0.1199648"
      ]
     },
     "metadata": {},
     "output_type": "display_data"
    }
   ],
   "source": [
    "mean(predicted.classes == test$TypeName)"
   ]
  }
 ],
 "metadata": {
  "environment": {
   "name": "r-cpu.3-6.m50",
   "type": "gcloud",
   "uri": "gcr.io/deeplearning-platform-release/r-cpu.3-6:m50"
  },
  "kernelspec": {
   "display_name": "R",
   "language": "R",
   "name": "ir"
  },
  "language_info": {
   "codemirror_mode": "r",
   "file_extension": ".r",
   "mimetype": "text/x-r-source",
   "name": "R",
   "pygments_lexer": "r",
   "version": "3.6.3"
  }
 },
 "nbformat": 4,
 "nbformat_minor": 4
}
