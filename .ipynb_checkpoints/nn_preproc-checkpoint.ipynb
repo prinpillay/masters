{
 "cells": [
  {
   "cell_type": "markdown",
   "metadata": {},
   "source": [
    "## Content based modelling - Neural Networks data preprocessing\n",
    "\n",
    "The following code preprocesses the data required for the neural network recommendation engine.\n",
    "\n",
    "This notebook will query data from the SQL data warehous. This is required to extract the relevant features needed for the neural networks recommendation engine. "
   ]
  },
  {
   "cell_type": "code",
   "execution_count": null,
   "metadata": {},
   "outputs": [],
   "source": [
    "#First we configure the project and access to the database\n",
    "\n",
    "#Import all required libraries\n",
    "import os\n",
    "import tensorflow as tf\n",
    "import numpy as np\n",
    "from google.cloud import bigquery \n",
    "\n",
    "#Environment variables \n",
    "PROJECT = 'astute-veld-253418' \n",
    "BUCKET = 'masters-research' \n",
    "REGION = 'us' # REPLACE WITH YOUR BUCKET REGION e.g. us-central1\n",
    "os.environ['PROJECT'] = PROJECT\n",
    "os.environ['BUCKET'] = BUCKET\n",
    "os.environ['REGION'] = REGION\n",
    "os.environ['TFVERSION'] = '2.1'"
   ]
  },
  {
   "cell_type": "code",
   "execution_count": null,
   "metadata": {},
   "outputs": [],
   "source": [
    "%%bash\n",
    "gcloud  config  set project $PROJECT\n",
    "gcloud config set compute/region $REGION"
   ]
  },
  {
   "cell_type": "markdown",
   "metadata": {},
   "source": [
    "For Tensorflow model training, we need the data in csv form to feed into the model, so we implement a helper function to assist with writing to file."
   ]
  },
  {
   "cell_type": "code",
   "execution_count": null,
   "metadata": {},
   "outputs": [],
   "source": [
    "def write_list_to_disk(my_list, filename):\n",
    "  with open(filename, 'w') as f:\n",
    "    for item in my_list:\n",
    "        line = \"%s\\n\" % item\n",
    "        f.write(line)"
   ]
  },
  {
   "cell_type": "markdown",
   "metadata": {},
   "source": [
    "### Import the data from the data warehouse\n",
    "\n",
    "The original dataset is stored in a seperate warehouse and needs to be queried into the notebook environment."
   ]
  },
  {
   "cell_type": "code",
   "execution_count": null,
   "metadata": {},
   "outputs": [],
   "source": [
    "#Query to retrieve the occupations variables\n",
    "sql=\"\"\"\n",
    "#standardSQL\n",
    "SELECT distinct Occupation_Grouping  FROM `astute-veld-253418.Masters.pr2_Test20` \n",
    "\"\"\"\n",
    "\n",
    "Occupation_list = bigquery.Client().query(sql).to_dataframe()['Occupation_Grouping'].tolist()\n",
    "write_list_to_disk(Occupation_list, \"occupation_list.txt\")\n",
    "print(\"Some sample occupations are {}\".format(Occupation_list[:3]))\n",
    "print(\"The total number of occupations are {}\".format(len(Occupation_list)))"
   ]
  },
  {
   "cell_type": "code",
   "execution_count": null,
   "metadata": {},
   "outputs": [],
   "source": [
    "#Query to retrieve the policies variable\n",
    "sql=\"\"\"\n",
    "#standardSQL\n",
    "SELECT distinct TypeName  FROM `astute-veld-253418.Masters.pr2_Test20` \n",
    "\"\"\"\n",
    "\n",
    "Policy_list = bigquery.Client().query(sql).to_dataframe()['TypeName'].tolist()\n",
    "write_list_to_disk(Policy_list, \"policy_list.txt\")\n",
    "print(\"Some sample policies are {}\".format(Policy_list[:3]))\n",
    "print(\"The total number of policies are {}\".format(len(Policy_list)))"
   ]
  },
  {
   "cell_type": "code",
   "execution_count": null,
   "metadata": {},
   "outputs": [],
   "source": [
    "#Query to retrieve the gender variable\n",
    "sql=\"\"\"\n",
    "#standardSQL\n",
    "SELECT distinct Gender  FROM `astute-veld-253418.Masters.pr2_Test20` \n",
    "\"\"\"\n",
    "gender_list = bigquery.Client().query(sql).to_dataframe()['Gender'].tolist()\n",
    "write_list_to_disk(gender_list, \"gender.txt\")\n",
    "print(gender_list)"
   ]
  },
  {
   "cell_type": "code",
   "execution_count": null,
   "metadata": {},
   "outputs": [],
   "source": [
    "# Query to retrieve the Habit Variable\n",
    "sql=\"\"\"\n",
    "#standardSQL\n",
    "SELECT distinct Habit  FROM `astute-veld-253418.Masters.pr2_Test20` \n",
    "\"\"\"\n",
    "habit_list = bigquery.Client().query(sql).to_dataframe()['Habit'].tolist()\n",
    "write_list_to_disk(habit_list, \"habit.txt\")\n",
    "print(habit_list)"
   ]
  },
  {
   "cell_type": "markdown",
   "metadata": {},
   "source": [
    "### Create train and test sets.\n",
    "\n",
    "Now we actually build the training and test datasets. We use a 80/20 split between this."
   ]
  },
  {
   "cell_type": "code",
   "execution_count": null,
   "metadata": {},
   "outputs": [],
   "source": [
    "#Retrieve training data\n",
    "sql=\"\"\"\n",
    "SELECT * Except (Mem_ID) FROM `astute-veld-253418.Masters.pr2_Training80` \n",
    "\"\"\"\n",
    "training_set_df = bigquery.Client().query(sql).to_dataframe()\n",
    "training_set_df.to_csv('training_set.csv', header=False, index=False, encoding='utf-8')\n",
    "training_set_df.head()"
   ]
  },
  {
   "cell_type": "code",
   "execution_count": null,
   "metadata": {},
   "outputs": [],
   "source": [
    "#Retrieve test data\n",
    "sql=\"\"\"\n",
    "SELECT * Except (Mem_ID) FROM `astute-veld-253418.Masters.pr2_Test20`  \n",
    "\"\"\"\n",
    "test_set_df = bigquery.Client().query(sql).to_dataframe()\n",
    "test_set_df.to_csv('test_set.csv', header=False, index=False, encoding='utf-8')\n",
    "test_set_df.head()"
   ]
  },
  {
   "cell_type": "markdown",
   "metadata": {},
   "source": [
    "We now can look at the CSVs generated to ensure the data is correct"
   ]
  },
  {
   "cell_type": "code",
   "execution_count": null,
   "metadata": {},
   "outputs": [],
   "source": [
    "%%bash\n",
    "wc -l *_set.csv"
   ]
  },
  {
   "cell_type": "code",
   "execution_count": null,
   "metadata": {},
   "outputs": [],
   "source": [
    "!head *_set.csv"
   ]
  }
 ],
 "metadata": {
  "kernelspec": {
   "display_name": "Python 3",
   "language": "python",
   "name": "python3"
  },
  "language_info": {
   "codemirror_mode": {
    "name": "ipython",
    "version": 3
   },
   "file_extension": ".py",
   "mimetype": "text/x-python",
   "name": "python",
   "nbconvert_exporter": "python",
   "pygments_lexer": "ipython3",
   "version": "3.7.6"
  }
 },
 "nbformat": 4,
 "nbformat_minor": 4
}
