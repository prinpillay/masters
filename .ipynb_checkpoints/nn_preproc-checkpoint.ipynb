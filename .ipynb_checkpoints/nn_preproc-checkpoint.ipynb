{
 "cells": [
  {
   "cell_type": "markdown",
   "metadata": {},
   "source": [
    "## Content based modelling - Neural Networks\n",
    "\n",
    "This notebook will query data from the SQL data warehous. This is required to extract the relevant features needed for the neural networks recommendation engine. "
   ]
  },
  {
   "cell_type": "code",
   "execution_count": 4,
   "metadata": {},
   "outputs": [],
   "source": [
    "#First we configure the project and access to the database\n",
    "\n",
    "#Import all required libraries\n",
    "import os\n",
    "import tensorflow as tf\n",
    "import numpy as np\n",
    "from google.cloud import bigquery \n",
    "\n",
    "#Environment variables \n",
    "PROJECT = 'astute-veld-253418' \n",
    "BUCKET = 'masters-research' \n",
    "REGION = 'us' # REPLACE WITH YOUR BUCKET REGION e.g. us-central1\n",
    "os.environ['PROJECT'] = PROJECT\n",
    "os.environ['BUCKET'] = BUCKET\n",
    "os.environ['REGION'] = REGION\n",
    "os.environ['TFVERSION'] = '2.1'"
   ]
  },
  {
   "cell_type": "code",
   "execution_count": 5,
   "metadata": {},
   "outputs": [
    {
     "name": "stderr",
     "output_type": "stream",
     "text": [
      "Updated property [core/project].\n",
      "Updated property [compute/region].\n"
     ]
    }
   ],
   "source": [
    "%%bash\n",
    "gcloud  config  set project $PROJECT\n",
    "gcloud config set compute/region $REGION"
   ]
  },
  {
   "cell_type": "markdown",
   "metadata": {},
   "source": [
    "We will use this helper funciton to write lists containing article ids, categories, and authors for each article in our database to local file. "
   ]
  },
  {
   "cell_type": "code",
   "execution_count": 7,
   "metadata": {},
   "outputs": [],
   "source": [
    "def write_list_to_disk(my_list, filename):\n",
    "  with open(filename, 'w') as f:\n",
    "    for item in my_list:\n",
    "        line = \"%s\\n\" % item\n",
    "        f.write(line)"
   ]
  },
  {
   "cell_type": "markdown",
   "metadata": {},
   "source": [
    "### Pull data from BigQuery\n",
    "\n",
    "The cell below creates a local text file containing all the article ids (i.e. 'content ids') in the dataset. \n",
    "\n",
    "Have a look at the original dataset in [BigQuery](https://console.cloud.google.com/bigquery?p=cloud-training-demos&d=GA360_test&t=ga_sessions_sample). Then read through the query below and make sure you understand what it is doing. "
   ]
  },
  {
   "cell_type": "code",
   "execution_count": 8,
   "metadata": {},
   "outputs": [
    {
     "name": "stdout",
     "output_type": "stream",
     "text": [
      "Some sample content IDs ['299965853', '299972248', '299410466']\n",
      "The total number of articles is 15634\n"
     ]
    }
   ],
   "source": [
    "sql=\"\"\"\n",
    "#standardSQL\n",
    "\n",
    "SELECT  \n",
    "  (SELECT MAX(IF(index=10, value, NULL)) FROM UNNEST(hits.customDimensions)) AS content_id \n",
    "FROM `cloud-training-demos.GA360_test.ga_sessions_sample`,   \n",
    "  UNNEST(hits) AS hits\n",
    "WHERE \n",
    "  # only include hits on pages\n",
    "  hits.type = \"PAGE\"\n",
    "  AND (SELECT MAX(IF(index=10, value, NULL)) FROM UNNEST(hits.customDimensions)) IS NOT NULL\n",
    "GROUP BY\n",
    "  content_id\n",
    "  \n",
    "\"\"\"\n",
    "\n",
    "content_ids_list = bigquery.Client().query(sql).to_dataframe()['content_id'].tolist()\n",
    "write_list_to_disk(content_ids_list, \"content_ids.txt\")\n",
    "print(\"Some sample content IDs {}\".format(content_ids_list[:3]))\n",
    "print(\"The total number of articles is {}\".format(len(content_ids_list)))"
   ]
  },
  {
   "cell_type": "markdown",
   "metadata": {},
   "source": [
    "There should be 15,634 articles in the database.  \n",
    "Next, we'll create a local file which contains a list of article categories and a list of article authors.\n",
    "\n",
    "Note the change in the index when pulling the article category or author information. Also, we are using the first author of the article to create our author list.  \n",
    "Refer back to the original dataset, use the `hits.customDimensions.index` field to verify the correct index.\t "
   ]
  },
  {
   "cell_type": "code",
   "execution_count": 9,
   "metadata": {},
   "outputs": [
    {
     "name": "stdout",
     "output_type": "stream",
     "text": [
      "['Lifestyle', 'News', 'Stars & Kultur']\n"
     ]
    }
   ],
   "source": [
    "sql=\"\"\"\n",
    "#standardSQL\n",
    "SELECT  \n",
    "  (SELECT MAX(IF(index=7, value, NULL)) FROM UNNEST(hits.customDimensions)) AS category  \n",
    "FROM `cloud-training-demos.GA360_test.ga_sessions_sample`,   \n",
    "  UNNEST(hits) AS hits\n",
    "WHERE \n",
    "  # only include hits on pages\n",
    "  hits.type = \"PAGE\"\n",
    "  AND (SELECT MAX(IF(index=7, value, NULL)) FROM UNNEST(hits.customDimensions)) IS NOT NULL\n",
    "GROUP BY   \n",
    "  category\n",
    "\"\"\"\n",
    "categories_list = bigquery.Client().query(sql).to_dataframe()['category'].tolist()\n",
    "write_list_to_disk(categories_list, \"categories.txt\")\n",
    "print(categories_list)"
   ]
  },
  {
   "cell_type": "markdown",
   "metadata": {},
   "source": [
    "The categories are 'News', 'Stars & Kultur', and 'Lifestyle'.  \n",
    "When creating the author list, we'll only use the first author information for each article.  "
   ]
  },
  {
   "cell_type": "code",
   "execution_count": 10,
   "metadata": {},
   "outputs": [
    {
     "name": "stdout",
     "output_type": "stream",
     "text": [
      "Some sample authors ['Christina Michlits', 'Mathias Kainz', 'Thomas  Trescher', 'Stefan Berndl', 'Anita Kattinger', 'Martina Salomon', 'Marlene Patsalidis', 'Georg Leyrer', 'Elisabeth Spitzer', 'Elisabeth Sereda']\n",
      "The total number of authors is 385\n"
     ]
    }
   ],
   "source": [
    "sql=\"\"\"\n",
    "#standardSQL\n",
    "SELECT\n",
    "  REGEXP_EXTRACT((SELECT MAX(IF(index=2, value, NULL)) FROM UNNEST(hits.customDimensions)), r\"^[^,]+\")  AS first_author  \n",
    "FROM `cloud-training-demos.GA360_test.ga_sessions_sample`,   \n",
    "  UNNEST(hits) AS hits\n",
    "WHERE \n",
    "  # only include hits on pages\n",
    "  hits.type = \"PAGE\"\n",
    "  AND (SELECT MAX(IF(index=2, value, NULL)) FROM UNNEST(hits.customDimensions)) IS NOT NULL\n",
    "GROUP BY   \n",
    "  first_author\n",
    "\"\"\"\n",
    "authors_list = bigquery.Client().query(sql).to_dataframe()['first_author'].tolist()\n",
    "write_list_to_disk(authors_list, \"authors.txt\")\n",
    "print(\"Some sample authors {}\".format(authors_list[:10]))\n",
    "print(\"The total number of authors is {}\".format(len(authors_list)))"
   ]
  },
  {
   "cell_type": "markdown",
   "metadata": {},
   "source": [
    "There should be 385 authors in the database. "
   ]
  },
  {
   "cell_type": "markdown",
   "metadata": {},
   "source": [
    "### Create train and test sets.\n",
    "\n",
    "In this section, we will create the train/test split of our data for training our model. We use the concatenated values for visitor id and content id to create a farm fingerprint, taking approximately 90% of the data for the training set and 10% for the test set."
   ]
  },
  {
   "cell_type": "code",
   "execution_count": 11,
   "metadata": {},
   "outputs": [
    {
     "data": {
      "text/html": [
       "<div>\n",
       "<style scoped>\n",
       "    .dataframe tbody tr th:only-of-type {\n",
       "        vertical-align: middle;\n",
       "    }\n",
       "\n",
       "    .dataframe tbody tr th {\n",
       "        vertical-align: top;\n",
       "    }\n",
       "\n",
       "    .dataframe thead th {\n",
       "        text-align: right;\n",
       "    }\n",
       "</style>\n",
       "<table border=\"1\" class=\"dataframe\">\n",
       "  <thead>\n",
       "    <tr style=\"text-align: right;\">\n",
       "      <th></th>\n",
       "      <th>visitor_id</th>\n",
       "      <th>content_id</th>\n",
       "      <th>category</th>\n",
       "      <th>title</th>\n",
       "      <th>author</th>\n",
       "      <th>months_since_epoch</th>\n",
       "      <th>next_content_id</th>\n",
       "    </tr>\n",
       "  </thead>\n",
       "  <tbody>\n",
       "    <tr>\n",
       "      <th>0</th>\n",
       "      <td>1000593816586876859</td>\n",
       "      <td>230814320</td>\n",
       "      <td>Stars &amp; Kultur</td>\n",
       "      <td>Kritik an Meghan Markle immer lauter</td>\n",
       "      <td>Elisabeth Spitzer</td>\n",
       "      <td>562</td>\n",
       "      <td>299837992</td>\n",
       "    </tr>\n",
       "    <tr>\n",
       "      <th>1</th>\n",
       "      <td>1001769331926555188</td>\n",
       "      <td>299836255</td>\n",
       "      <td>News</td>\n",
       "      <td>Blümel Kneissl &amp;Co.: Das sind die Fixstarter</td>\n",
       "      <td>None</td>\n",
       "      <td>574</td>\n",
       "      <td>299826767</td>\n",
       "    </tr>\n",
       "    <tr>\n",
       "      <th>2</th>\n",
       "      <td>1001769331926555188</td>\n",
       "      <td>299826767</td>\n",
       "      <td>Lifestyle</td>\n",
       "      <td>Titanic-Regisseur: Darum musste Jack sterben</td>\n",
       "      <td>Elisabeth Mittendorfer</td>\n",
       "      <td>574</td>\n",
       "      <td>299921761</td>\n",
       "    </tr>\n",
       "    <tr>\n",
       "      <th>3</th>\n",
       "      <td>1001769331926555188</td>\n",
       "      <td>299912085</td>\n",
       "      <td>News</td>\n",
       "      <td>Erster ÖBB-Containerzug nach China unterwegs</td>\n",
       "      <td>Stefan Hofer</td>\n",
       "      <td>574</td>\n",
       "      <td>299836841</td>\n",
       "    </tr>\n",
       "    <tr>\n",
       "      <th>4</th>\n",
       "      <td>1001769331926555188</td>\n",
       "      <td>299836841</td>\n",
       "      <td>News</td>\n",
       "      <td>ÖVP will Studiengebühren FPÖ in Verhandlungen ...</td>\n",
       "      <td>Raffaela Lindorfer</td>\n",
       "      <td>574</td>\n",
       "      <td>299915880</td>\n",
       "    </tr>\n",
       "  </tbody>\n",
       "</table>\n",
       "</div>"
      ],
      "text/plain": [
       "            visitor_id content_id        category  \\\n",
       "0  1000593816586876859  230814320  Stars & Kultur   \n",
       "1  1001769331926555188  299836255            News   \n",
       "2  1001769331926555188  299826767       Lifestyle   \n",
       "3  1001769331926555188  299912085            News   \n",
       "4  1001769331926555188  299836841            News   \n",
       "\n",
       "                                               title                  author  \\\n",
       "0               Kritik an Meghan Markle immer lauter       Elisabeth Spitzer   \n",
       "1       Blümel Kneissl &Co.: Das sind die Fixstarter                    None   \n",
       "2       Titanic-Regisseur: Darum musste Jack sterben  Elisabeth Mittendorfer   \n",
       "3       Erster ÖBB-Containerzug nach China unterwegs            Stefan Hofer   \n",
       "4  ÖVP will Studiengebühren FPÖ in Verhandlungen ...      Raffaela Lindorfer   \n",
       "\n",
       "   months_since_epoch next_content_id  \n",
       "0                 562       299837992  \n",
       "1                 574       299826767  \n",
       "2                 574       299921761  \n",
       "3                 574       299836841  \n",
       "4                 574       299915880  "
      ]
     },
     "execution_count": 11,
     "metadata": {},
     "output_type": "execute_result"
    }
   ],
   "source": [
    "sql=\"\"\"\n",
    "WITH site_history as (\n",
    "  SELECT\n",
    "      fullVisitorId as visitor_id,\n",
    "      (SELECT MAX(IF(index=10, value, NULL)) FROM UNNEST(hits.customDimensions)) AS content_id,\n",
    "      (SELECT MAX(IF(index=7, value, NULL)) FROM UNNEST(hits.customDimensions)) AS category, \n",
    "      (SELECT MAX(IF(index=6, value, NULL)) FROM UNNEST(hits.customDimensions)) AS title,\n",
    "      (SELECT MAX(IF(index=2, value, NULL)) FROM UNNEST(hits.customDimensions)) AS author_list,\n",
    "      SPLIT(RPAD((SELECT MAX(IF(index=4, value, NULL)) FROM UNNEST(hits.customDimensions)), 7), '.') as year_month_array,\n",
    "      LEAD(hits.customDimensions, 1) OVER (PARTITION BY fullVisitorId ORDER BY hits.time ASC) as nextCustomDimensions\n",
    "  FROM \n",
    "    `cloud-training-demos.GA360_test.ga_sessions_sample`,   \n",
    "     UNNEST(hits) AS hits\n",
    "   WHERE \n",
    "     # only include hits on pages\n",
    "      hits.type = \"PAGE\"\n",
    "      AND\n",
    "      fullVisitorId IS NOT NULL\n",
    "      AND\n",
    "      hits.time != 0\n",
    "      AND\n",
    "      hits.time IS NOT NULL\n",
    "      AND\n",
    "      (SELECT MAX(IF(index=10, value, NULL)) FROM UNNEST(hits.customDimensions)) IS NOT NULL\n",
    ")\n",
    "SELECT\n",
    "  visitor_id,\n",
    "  content_id,\n",
    "  category,\n",
    "  REGEXP_REPLACE(title, r\",\", \"\") as title,\n",
    "  REGEXP_EXTRACT(author_list, r\"^[^,]+\") as author,\n",
    "  DATE_DIFF(DATE(CAST(year_month_array[OFFSET(0)] AS INT64), CAST(year_month_array[OFFSET(1)] AS INT64), 1), DATE(1970,1,1), MONTH) as months_since_epoch,\n",
    "  (SELECT MAX(IF(index=10, value, NULL)) FROM UNNEST(nextCustomDimensions)) as next_content_id\n",
    "FROM\n",
    "  site_history\n",
    "WHERE (SELECT MAX(IF(index=10, value, NULL)) FROM UNNEST(nextCustomDimensions)) IS NOT NULL\n",
    "      AND ABS(MOD(FARM_FINGERPRINT(CONCAT(visitor_id, content_id)), 10)) < 9\n",
    "\"\"\"\n",
    "training_set_df = bigquery.Client().query(sql).to_dataframe()\n",
    "training_set_df.to_csv('training_set.csv', header=False, index=False, encoding='utf-8')\n",
    "training_set_df.head()"
   ]
  },
  {
   "cell_type": "code",
   "execution_count": 12,
   "metadata": {},
   "outputs": [
    {
     "data": {
      "text/html": [
       "<div>\n",
       "<style scoped>\n",
       "    .dataframe tbody tr th:only-of-type {\n",
       "        vertical-align: middle;\n",
       "    }\n",
       "\n",
       "    .dataframe tbody tr th {\n",
       "        vertical-align: top;\n",
       "    }\n",
       "\n",
       "    .dataframe thead th {\n",
       "        text-align: right;\n",
       "    }\n",
       "</style>\n",
       "<table border=\"1\" class=\"dataframe\">\n",
       "  <thead>\n",
       "    <tr style=\"text-align: right;\">\n",
       "      <th></th>\n",
       "      <th>visitor_id</th>\n",
       "      <th>content_id</th>\n",
       "      <th>category</th>\n",
       "      <th>title</th>\n",
       "      <th>author</th>\n",
       "      <th>months_since_epoch</th>\n",
       "      <th>next_content_id</th>\n",
       "    </tr>\n",
       "  </thead>\n",
       "  <tbody>\n",
       "    <tr>\n",
       "      <th>0</th>\n",
       "      <td>1000196974485173657</td>\n",
       "      <td>299925700</td>\n",
       "      <td>Lifestyle</td>\n",
       "      <td>Nach Tod von Vater: Tochter bekommt jedes Jahr...</td>\n",
       "      <td>Marlene Patsalidis</td>\n",
       "      <td>574</td>\n",
       "      <td>299972194</td>\n",
       "    </tr>\n",
       "    <tr>\n",
       "      <th>1</th>\n",
       "      <td>1000196974485173657</td>\n",
       "      <td>299972194</td>\n",
       "      <td>News</td>\n",
       "      <td>LIVE: Spielstand bei Sturm - Admira</td>\n",
       "      <td>Mathias Kainz</td>\n",
       "      <td>574</td>\n",
       "      <td>299816215</td>\n",
       "    </tr>\n",
       "    <tr>\n",
       "      <th>2</th>\n",
       "      <td>1000196974485173657</td>\n",
       "      <td>299972194</td>\n",
       "      <td>News</td>\n",
       "      <td>Dominante Grazer nehmen Admira auseinander</td>\n",
       "      <td>Mathias Kainz</td>\n",
       "      <td>574</td>\n",
       "      <td>299410466</td>\n",
       "    </tr>\n",
       "    <tr>\n",
       "      <th>3</th>\n",
       "      <td>1007505561418545529</td>\n",
       "      <td>299407839</td>\n",
       "      <td>Stars &amp; Kultur</td>\n",
       "      <td>Trump: 165 Millionen Dollar für 5 Tage Urlaub</td>\n",
       "      <td>Elisabeth Spitzer</td>\n",
       "      <td>574</td>\n",
       "      <td>299816215</td>\n",
       "    </tr>\n",
       "    <tr>\n",
       "      <th>4</th>\n",
       "      <td>1017855659516706306</td>\n",
       "      <td>298846345</td>\n",
       "      <td>Stars &amp; Kultur</td>\n",
       "      <td>Meghan Markle: Lottogewinn veränderte ihr Leben</td>\n",
       "      <td>Elisabeth Spitzer</td>\n",
       "      <td>574</td>\n",
       "      <td>299814775</td>\n",
       "    </tr>\n",
       "  </tbody>\n",
       "</table>\n",
       "</div>"
      ],
      "text/plain": [
       "            visitor_id content_id        category  \\\n",
       "0  1000196974485173657  299925700       Lifestyle   \n",
       "1  1000196974485173657  299972194            News   \n",
       "2  1000196974485173657  299972194            News   \n",
       "3  1007505561418545529  299407839  Stars & Kultur   \n",
       "4  1017855659516706306  298846345  Stars & Kultur   \n",
       "\n",
       "                                               title              author  \\\n",
       "0  Nach Tod von Vater: Tochter bekommt jedes Jahr...  Marlene Patsalidis   \n",
       "1                LIVE: Spielstand bei Sturm - Admira       Mathias Kainz   \n",
       "2         Dominante Grazer nehmen Admira auseinander       Mathias Kainz   \n",
       "3      Trump: 165 Millionen Dollar für 5 Tage Urlaub   Elisabeth Spitzer   \n",
       "4    Meghan Markle: Lottogewinn veränderte ihr Leben   Elisabeth Spitzer   \n",
       "\n",
       "   months_since_epoch next_content_id  \n",
       "0                 574       299972194  \n",
       "1                 574       299816215  \n",
       "2                 574       299410466  \n",
       "3                 574       299816215  \n",
       "4                 574       299814775  "
      ]
     },
     "execution_count": 12,
     "metadata": {},
     "output_type": "execute_result"
    }
   ],
   "source": [
    "sql=\"\"\"\n",
    "WITH site_history as (\n",
    "  SELECT\n",
    "      fullVisitorId as visitor_id,\n",
    "      (SELECT MAX(IF(index=10, value, NULL)) FROM UNNEST(hits.customDimensions)) AS content_id,\n",
    "      (SELECT MAX(IF(index=7, value, NULL)) FROM UNNEST(hits.customDimensions)) AS category, \n",
    "      (SELECT MAX(IF(index=6, value, NULL)) FROM UNNEST(hits.customDimensions)) AS title,\n",
    "      (SELECT MAX(IF(index=2, value, NULL)) FROM UNNEST(hits.customDimensions)) AS author_list,\n",
    "      SPLIT(RPAD((SELECT MAX(IF(index=4, value, NULL)) FROM UNNEST(hits.customDimensions)), 7), '.') as year_month_array,\n",
    "      LEAD(hits.customDimensions, 1) OVER (PARTITION BY fullVisitorId ORDER BY hits.time ASC) as nextCustomDimensions\n",
    "  FROM \n",
    "    `cloud-training-demos.GA360_test.ga_sessions_sample`,   \n",
    "     UNNEST(hits) AS hits\n",
    "   WHERE \n",
    "     # only include hits on pages\n",
    "      hits.type = \"PAGE\"\n",
    "      AND\n",
    "      fullVisitorId IS NOT NULL\n",
    "      AND\n",
    "      hits.time != 0\n",
    "      AND\n",
    "      hits.time IS NOT NULL\n",
    "      AND\n",
    "      (SELECT MAX(IF(index=10, value, NULL)) FROM UNNEST(hits.customDimensions)) IS NOT NULL\n",
    ")\n",
    "SELECT\n",
    "  visitor_id,\n",
    "  content_id,\n",
    "  category,\n",
    "  REGEXP_REPLACE(title, r\",\", \"\") as title,\n",
    "  REGEXP_EXTRACT(author_list, r\"^[^,]+\") as author,\n",
    "  DATE_DIFF(DATE(CAST(year_month_array[OFFSET(0)] AS INT64), CAST(year_month_array[OFFSET(1)] AS INT64), 1), DATE(1970,1,1), MONTH) as months_since_epoch,\n",
    "  (SELECT MAX(IF(index=10, value, NULL)) FROM UNNEST(nextCustomDimensions)) as next_content_id\n",
    "FROM\n",
    "  site_history\n",
    "WHERE (SELECT MAX(IF(index=10, value, NULL)) FROM UNNEST(nextCustomDimensions)) IS NOT NULL\n",
    "      AND ABS(MOD(FARM_FINGERPRINT(CONCAT(visitor_id, content_id)), 10)) >= 9\n",
    "\"\"\"\n",
    "test_set_df = bigquery.Client().query(sql).to_dataframe()\n",
    "test_set_df.to_csv('test_set.csv', header=False, index=False, encoding='utf-8')\n",
    "test_set_df.head()"
   ]
  },
  {
   "cell_type": "markdown",
   "metadata": {},
   "source": [
    "Let's have a look at the two csv files we just created containing the training and test set. We'll also do a line count of both files to confirm that we have achieved an approximate 90/10 train/test split.  \n",
    "In the next notebook, **Content Based Filtering** we will build a model to recommend an article given information about the current article being read, such as the category, title, author, and publish date. "
   ]
  },
  {
   "cell_type": "code",
   "execution_count": 13,
   "metadata": {},
   "outputs": [
    {
     "name": "stdout",
     "output_type": "stream",
     "text": [
      "   25599 test_set.csv\n",
      "  232308 training_set.csv\n",
      "  257907 total\n"
     ]
    }
   ],
   "source": [
    "%%bash\n",
    "wc -l *_set.csv"
   ]
  },
  {
   "cell_type": "code",
   "execution_count": 14,
   "metadata": {},
   "outputs": [
    {
     "name": "stdout",
     "output_type": "stream",
     "text": [
      "==> test_set.csv <==\n",
      "1000196974485173657,299925700,Lifestyle,Nach Tod von Vater: Tochter bekommt jedes Jahr Blumen,Marlene Patsalidis,574,299972194\n",
      "1000196974485173657,299972194,News,LIVE: Spielstand bei Sturm - Admira,Mathias Kainz,574,299816215\n",
      "1000196974485173657,299972194,News,Dominante Grazer nehmen Admira auseinander,Mathias Kainz,574,299410466\n",
      "1007505561418545529,299407839,Stars & Kultur,Trump: 165 Millionen Dollar für 5 Tage Urlaub,Elisabeth Spitzer,574,299816215\n",
      "1017855659516706306,298846345,Stars & Kultur,Meghan Markle: Lottogewinn veränderte ihr Leben,Elisabeth Spitzer,574,299814775\n",
      "1020191185375536307,299827911,News,\"\"\"Vulkanausbrüche sind normal\"\"\",Michaela Reibenwein,574,187077794\n",
      "1021039862358799317,299911496,News,Papst auf Myanmar-Besuch: Franziskus trifft Aung San Suu Kyi,,574,299912041\n",
      "1032965470337888105,299826775,Lifestyle,Auf Bank ausgeruht: Pensionist muss Strafe zahlen,Marlene Patsalidis,574,299918253\n",
      "1034151839179551865,297547655,Stars & Kultur,\"Ozzy Osbourne spricht über Affäre: \"\"War ein Idiot\"\"\",Christina Michlits,574,200635196\n",
      "1037372952958101754,299816215,News,Fahnenskandal von Mailand: Die Austria zeigt Flagge,Alexander Strecha,574,299836841\n",
      "\n",
      "==> training_set.csv <==\n",
      "1000593816586876859,230814320,Stars & Kultur,Kritik an Meghan Markle immer lauter,Elisabeth Spitzer,562,299837992\n",
      "1001769331926555188,299836255,News,Blümel Kneissl &Co.: Das sind die Fixstarter,,574,299826767\n",
      "1001769331926555188,299826767,Lifestyle,Titanic-Regisseur: Darum musste Jack sterben,Elisabeth Mittendorfer,574,299921761\n",
      "1001769331926555188,299912085,News,Erster ÖBB-Containerzug nach China unterwegs,Stefan Hofer,574,299836841\n",
      "1001769331926555188,299836841,News,\"ÖVP will Studiengebühren FPÖ in Verhandlungen \"\"flexibel\"\"\",Raffaela Lindorfer,574,299915880\n",
      "1002071027616301703,299410466,News,Carfentanil: Der „serial killer“ ist in Österreich aufgetaucht,Thomas  Trescher,574,299902870\n",
      "1002090131595000997,299844359,News,\"\"\"Ich bin kein  typischer Grüner\"\"\",Stefanie Rachbauer,574,299907275\n",
      "1002090131595000997,299907275,Lifestyle,Meghan Markles Verlobungs-Outfit: Alle Details,Maria Zelenko,574,299852437\n",
      "1002090131595000997,299852437,News,Diözese kontert Haimbuchners Bibel-Attacke,Moritz Gottsauner-Wolf,574,299953030\n",
      "1002090131595000997,299953030,News,Nach Ja zu Glyphosat: Merkel wirft Landwirtschaftsminister Verstoß gegen Geschäftsordnung vor,,574,299844359\n"
     ]
    }
   ],
   "source": [
    "!head *_set.csv"
   ]
  },
  {
   "cell_type": "code",
   "execution_count": null,
   "metadata": {},
   "outputs": [],
   "source": []
  }
 ],
 "metadata": {
  "kernelspec": {
   "display_name": "Python 3",
   "language": "python",
   "name": "python3"
  },
  "language_info": {
   "codemirror_mode": {
    "name": "ipython",
    "version": 3
   },
   "file_extension": ".py",
   "mimetype": "text/x-python",
   "name": "python",
   "nbconvert_exporter": "python",
   "pygments_lexer": "ipython3",
   "version": "3.7.6"
  }
 },
 "nbformat": 4,
 "nbformat_minor": 4
}
